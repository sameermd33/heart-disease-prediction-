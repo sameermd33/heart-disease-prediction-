{
 "cells": [
  {
   "cell_type": "code",
   "execution_count": 1,
   "id": "b7b4b74d-bb23-4097-9fc4-c2a8eba20919",
   "metadata": {},
   "outputs": [],
   "source": [
    "import socket\n",
    "import pickle\n",
    "import pandas as pd\n",
    "import numpy as np\n",
    "from cryptography.hazmat.primitives.asymmetric import ec\n",
    "from cryptography.hazmat.primitives import hashes, serialization\n",
    "from cryptography.hazmat.primitives.kdf.hkdf import HKDF\n",
    "from cryptography.hazmat.primitives.ciphers.aead import AESGCM\n",
    "from tensorflow.keras.models import Sequential\n",
    "from tensorflow.keras.layers import Dense\n",
    "from tensorflow.keras.optimizers import SGD"
   ]
  },
  {
   "cell_type": "code",
   "execution_count": 2,
   "id": "14c533f6-1f37-493d-9eaf-9f947b571aa6",
   "metadata": {},
   "outputs": [],
   "source": [
    "dataset_path = 'heart2ex.csv'\n",
    "data = pd.read_csv(dataset_path)\n",
    "X = data.iloc[:, :-1].values\n",
    "y = data.iloc[:, -1].values"
   ]
  },
  {
   "cell_type": "code",
   "execution_count": 3,
   "id": "ce397bce-a368-4916-94ee-7d77d772954c",
   "metadata": {},
   "outputs": [],
   "source": [
    "def build_model():\n",
    "    model = Sequential([\n",
    "        Dense(16, activation='relu', input_shape=(13,)),\n",
    "        Dense(8, activation='relu'),\n",
    "        Dense(1, activation='sigmoid')\n",
    "    ])\n",
    "    model.compile(optimizer=SGD(learning_rate=0.01), loss='binary_crossentropy', metrics=['accuracy'])\n",
    "    return model"
   ]
  },
  {
   "cell_type": "code",
   "execution_count": 4,
   "id": "b8b12305-5858-46ff-86ee-093e9b21e361",
   "metadata": {},
   "outputs": [],
   "source": [
    "server_ip = 'localhost'\n",
    "server_port = 5000\n",
    "client_socket = socket.socket(socket.AF_INET, socket.SOCK_STREAM)\n",
    "client_socket.connect((server_ip, server_port))"
   ]
  },
  {
   "cell_type": "code",
   "execution_count": 5,
   "id": "e4d424dc-5a38-442e-af4c-55f19fe7e729",
   "metadata": {},
   "outputs": [],
   "source": [
    "client_private_key = ec.generate_private_key(ec.SECP256R1())\n",
    "client_public_key = client_private_key.public_key()\n"
   ]
  },
  {
   "cell_type": "code",
   "execution_count": 6,
   "id": "cdb5a838-bcc1-4b2e-b242-73270e255b85",
   "metadata": {},
   "outputs": [],
   "source": [
    "server_public_key_pem = client_socket.recv(1024)\n",
    "server_public_key = serialization.load_pem_public_key(server_public_key_pem)"
   ]
  },
  {
   "cell_type": "code",
   "execution_count": 7,
   "id": "0a33d1d2-0769-4627-bb59-f4a9e22389f4",
   "metadata": {},
   "outputs": [
    {
     "data": {
      "text/plain": [
       "178"
      ]
     },
     "execution_count": 7,
     "metadata": {},
     "output_type": "execute_result"
    }
   ],
   "source": [
    "client_socket.send(client_public_key.public_bytes(\n",
    "    encoding=serialization.Encoding.PEM,\n",
    "    format=serialization.PublicFormat.SubjectPublicKeyInfo\n",
    "))"
   ]
  },
  {
   "cell_type": "code",
   "execution_count": 8,
   "id": "6b0cd189-1f90-4eff-8afd-c692a35fc66d",
   "metadata": {},
   "outputs": [
    {
     "name": "stdout",
     "output_type": "stream",
     "text": [
      "Starting round 1/40\n"
     ]
    },
    {
     "name": "stderr",
     "output_type": "stream",
     "text": [
      "/Library/Frameworks/Python.framework/Versions/3.12/lib/python3.12/site-packages/keras/src/layers/core/dense.py:87: UserWarning: Do not pass an `input_shape`/`input_dim` argument to a layer. When using Sequential models, prefer using an `Input(shape)` object as the first layer in the model instead.\n",
      "  super().__init__(activity_regularizer=activity_regularizer, **kwargs)\n"
     ]
    },
    {
     "name": "stdout",
     "output_type": "stream",
     "text": [
      "Round 1 complete.\n",
      "Starting round 2/40\n",
      "Round 2 complete.\n",
      "Starting round 3/40\n",
      "Round 3 complete.\n",
      "Starting round 4/40\n",
      "Round 4 complete.\n",
      "Starting round 5/40\n",
      "Round 5 complete.\n",
      "Starting round 6/40\n",
      "Round 6 complete.\n",
      "Starting round 7/40\n",
      "Round 7 complete.\n",
      "Starting round 8/40\n",
      "Round 8 complete.\n",
      "Starting round 9/40\n",
      "Round 9 complete.\n",
      "Starting round 10/40\n",
      "Round 10 complete.\n",
      "Starting round 11/40\n",
      "Round 11 complete.\n",
      "Starting round 12/40\n",
      "Round 12 complete.\n",
      "Starting round 13/40\n",
      "Round 13 complete.\n",
      "Starting round 14/40\n",
      "Round 14 complete.\n",
      "Starting round 15/40\n",
      "Round 15 complete.\n",
      "Starting round 16/40\n",
      "Round 16 complete.\n",
      "Starting round 17/40\n",
      "Round 17 complete.\n",
      "Starting round 18/40\n",
      "Round 18 complete.\n",
      "Starting round 19/40\n",
      "Round 19 complete.\n",
      "Starting round 20/40\n",
      "Round 20 complete.\n",
      "Starting round 21/40\n",
      "Round 21 complete.\n",
      "Starting round 22/40\n",
      "Round 22 complete.\n",
      "Starting round 23/40\n",
      "Round 23 complete.\n",
      "Starting round 24/40\n",
      "Round 24 complete.\n",
      "Starting round 25/40\n",
      "Round 25 complete.\n",
      "Starting round 26/40\n",
      "Round 26 complete.\n",
      "Starting round 27/40\n",
      "Round 27 complete.\n",
      "Starting round 28/40\n",
      "Round 28 complete.\n",
      "Starting round 29/40\n",
      "Round 29 complete.\n",
      "Starting round 30/40\n",
      "Round 30 complete.\n",
      "Starting round 31/40\n",
      "Round 31 complete.\n",
      "Starting round 32/40\n",
      "Round 32 complete.\n",
      "Starting round 33/40\n",
      "Round 33 complete.\n",
      "Starting round 34/40\n",
      "Round 34 complete.\n",
      "Starting round 35/40\n",
      "Round 35 complete.\n",
      "Starting round 36/40\n",
      "Round 36 complete.\n",
      "Starting round 37/40\n",
      "Round 37 complete.\n",
      "Starting round 38/40\n",
      "Round 38 complete.\n",
      "Starting round 39/40\n",
      "Round 39 complete.\n",
      "Starting round 40/40\n",
      "Round 40 complete.\n",
      "Federated learning complete and connection closed.\n"
     ]
    }
   ],
   "source": [
    "num_rounds = 40\n",
    "for round_num in range(num_rounds):\n",
    "    print(f\"Starting round {round_num + 1}/{num_rounds}\")\n",
    "    \n",
    "  \n",
    "    encrypted_data = client_socket.recv(4096)\n",
    "    shared_key = client_private_key.exchange(ec.ECDH(), server_public_key)\n",
    "    derived_key = HKDF(algorithm=hashes.SHA256(), length=32, salt=None, info=b'handshake data').derive(shared_key)\n",
    "    aesgcm = AESGCM(derived_key)\n",
    "    nonce = b'\\x00' * 12  \n",
    "    data = aesgcm.decrypt(nonce, encrypted_data, None)\n",
    "    global_weights = pickle.loads(data)\n",
    "    \n",
    "\n",
    "    model = build_model()\n",
    "    if global_weights is not None:\n",
    "        model.set_weights(global_weights)\n",
    "\n",
    "    model.fit(X, y, epochs=1, verbose=0)\n",
    "\n",
    "    local_weights = model.get_weights()\n",
    "    data = pickle.dumps(local_weights)\n",
    "    encrypted_data = aesgcm.encrypt(nonce, data, None)\n",
    "    \n",
    " \n",
    "    client_socket.send(encrypted_data)\n",
    "    \n",
    "    print(f\"Round {round_num + 1} complete.\")\n",
    "\n",
    "\n",
    "client_socket.close()\n",
    "\n",
    "print(\"Federated learning complete and connection closed.\")\n"
   ]
  },
  {
   "cell_type": "code",
   "execution_count": null,
   "id": "74a63131-c4a3-4f2f-8a6d-ad303969268a",
   "metadata": {},
   "outputs": [],
   "source": []
  }
 ],
 "metadata": {
  "kernelspec": {
   "display_name": "Python 3 (ipykernel)",
   "language": "python",
   "name": "python3"
  },
  "language_info": {
   "codemirror_mode": {
    "name": "ipython",
    "version": 3
   },
   "file_extension": ".py",
   "mimetype": "text/x-python",
   "name": "python",
   "nbconvert_exporter": "python",
   "pygments_lexer": "ipython3",
   "version": "3.12.5"
  }
 },
 "nbformat": 4,
 "nbformat_minor": 5
}
