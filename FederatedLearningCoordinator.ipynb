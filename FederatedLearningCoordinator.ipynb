{
 "cells": [
  {
   "cell_type": "code",
   "execution_count": 1,
   "id": "7e0705a0-65e8-4a49-bc1f-c05fec60fe93",
   "metadata": {},
   "outputs": [],
   "source": [
    "import socket\n",
    "import pickle\n",
    "from cryptography.hazmat.primitives.asymmetric import ec\n",
    "from cryptography.hazmat.primitives import hashes, serialization\n",
    "from cryptography.hazmat.primitives.kdf.hkdf import HKDF\n",
    "from cryptography.hazmat.primitives.kdf.pbkdf2 import PBKDF2HMAC\n",
    "from cryptography.hazmat.primitives.ciphers.aead import AESGCM\n",
    "from cryptography.hazmat.primitives import padding\n",
    "import numpy as np\n",
    "from tensorflow.keras.models import Sequential\n",
    "from tensorflow.keras.layers import Dense\n",
    "from tensorflow.keras.optimizers import SGD"
   ]
  },
  {
   "cell_type": "code",
   "execution_count": 2,
   "id": "c3e7173e-e21c-4a84-a829-aec3c66231dd",
   "metadata": {},
   "outputs": [
    {
     "name": "stdout",
     "output_type": "stream",
     "text": [
      "Server listening on localhost:5000\n"
     ]
    }
   ],
   "source": [
    "server_ip = 'localhost'\n",
    "server_port = 5000\n",
    "server_socket = socket.socket(socket.AF_INET, socket.SOCK_STREAM)\n",
    "server_socket.bind((server_ip, server_port))\n",
    "server_socket.listen(3)  # Listening to 3 clients\n",
    "\n",
    "print(f\"Server listening on {server_ip}:{server_port}\")"
   ]
  },
  {
   "cell_type": "code",
   "execution_count": 3,
   "id": "ff0589be-d463-4715-889b-7a36a5a51a19",
   "metadata": {},
   "outputs": [],
   "source": [
    "server_private_key = ec.generate_private_key(ec.SECP256R1())\n",
    "server_public_key = server_private_key.public_key()"
   ]
  },
  {
   "cell_type": "code",
   "execution_count": 4,
   "id": "72efdd35-0d6f-4b98-b334-099fce05ef09",
   "metadata": {},
   "outputs": [
    {
     "name": "stdout",
     "output_type": "stream",
     "text": [
      "Client 1 connected from ('127.0.0.1', 53266)\n",
      "Client 2 connected from ('127.0.0.1', 53341)\n",
      "Client 3 connected from ('127.0.0.1', 53343)\n"
     ]
    }
   ],
   "source": [
    "client_connections = []\n",
    "for i in range(3):\n",
    "    conn, addr = server_socket.accept()\n",
    "    print(f\"Client {i+1} connected from {addr}\")\n",
    "    client_connections.append(conn)\n",
    "    conn.send(server_public_key.public_bytes(\n",
    "        encoding=serialization.Encoding.PEM,\n",
    "        format=serialization.PublicFormat.SubjectPublicKeyInfo\n",
    "    ))"
   ]
  },
  {
   "cell_type": "code",
   "execution_count": 5,
   "id": "767826c1-547e-469e-ad34-e75860dc2db0",
   "metadata": {},
   "outputs": [],
   "source": [
    "client_public_keys = []\n",
    "for i in range(3):\n",
    "    client_public_key_pem = client_connections[i].recv(1024)\n",
    "    client_public_key = serialization.load_pem_public_key(client_public_key_pem)\n",
    "    client_public_keys.append(client_public_key)"
   ]
  },
  {
   "cell_type": "code",
   "execution_count": 6,
   "id": "b26e6018-6abe-48de-af6a-4b20902b48c1",
   "metadata": {},
   "outputs": [],
   "source": [
    "\n",
    "global_weights = None\n",
    "def build_model():\n",
    "    model = Sequential([\n",
    "        Dense(16, activation='relu', input_shape=(13,)),\n",
    "        Dense(8, activation='relu'),\n",
    "        Dense(1, activation='sigmoid')\n",
    "    ])\n",
    "    model.compile(optimizer=SGD(learning_rate=0.01), loss='binary_crossentropy', metrics=['accuracy'])\n",
    "    return model"
   ]
  },
  {
   "cell_type": "code",
   "execution_count": 7,
   "id": "e3e4d9cd-bde3-41b0-b6ed-9e26d904c1c5",
   "metadata": {},
   "outputs": [
    {
     "name": "stdout",
     "output_type": "stream",
     "text": [
      "Starting round 1/40\n"
     ]
    },
    {
     "name": "stderr",
     "output_type": "stream",
     "text": [
      "/Library/Frameworks/Python.framework/Versions/3.12/lib/python3.12/site-packages/keras/src/layers/core/dense.py:87: UserWarning: Do not pass an `input_shape`/`input_dim` argument to a layer. When using Sequential models, prefer using an `Input(shape)` object as the first layer in the model instead.\n",
      "  super().__init__(activity_regularizer=activity_regularizer, **kwargs)\n"
     ]
    },
    {
     "name": "stdout",
     "output_type": "stream",
     "text": [
      "Round 1 complete.\n",
      "Starting round 2/40\n",
      "Round 2 complete.\n",
      "Starting round 3/40\n",
      "Round 3 complete.\n",
      "Starting round 4/40\n",
      "Round 4 complete.\n",
      "Starting round 5/40\n",
      "Round 5 complete.\n",
      "Starting round 6/40\n",
      "Round 6 complete.\n",
      "Starting round 7/40\n",
      "Round 7 complete.\n",
      "Starting round 8/40\n",
      "Round 8 complete.\n",
      "Starting round 9/40\n",
      "Round 9 complete.\n",
      "Starting round 10/40\n",
      "Round 10 complete.\n",
      "Starting round 11/40\n",
      "Round 11 complete.\n",
      "Starting round 12/40\n",
      "Round 12 complete.\n",
      "Starting round 13/40\n",
      "Round 13 complete.\n",
      "Starting round 14/40\n",
      "Round 14 complete.\n",
      "Starting round 15/40\n",
      "Round 15 complete.\n",
      "Starting round 16/40\n",
      "Round 16 complete.\n",
      "Starting round 17/40\n",
      "Round 17 complete.\n",
      "Starting round 18/40\n",
      "Round 18 complete.\n",
      "Starting round 19/40\n",
      "Round 19 complete.\n",
      "Starting round 20/40\n",
      "Round 20 complete.\n",
      "Starting round 21/40\n",
      "Round 21 complete.\n",
      "Starting round 22/40\n",
      "Round 22 complete.\n",
      "Starting round 23/40\n",
      "Round 23 complete.\n",
      "Starting round 24/40\n",
      "Round 24 complete.\n",
      "Starting round 25/40\n",
      "Round 25 complete.\n",
      "Starting round 26/40\n",
      "Round 26 complete.\n",
      "Starting round 27/40\n",
      "Round 27 complete.\n",
      "Starting round 28/40\n",
      "Round 28 complete.\n",
      "Starting round 29/40\n",
      "Round 29 complete.\n",
      "Starting round 30/40\n",
      "Round 30 complete.\n",
      "Starting round 31/40\n",
      "Round 31 complete.\n",
      "Starting round 32/40\n",
      "Round 32 complete.\n",
      "Starting round 33/40\n",
      "Round 33 complete.\n",
      "Starting round 34/40\n",
      "Round 34 complete.\n",
      "Starting round 35/40\n",
      "Round 35 complete.\n",
      "Starting round 36/40\n",
      "Round 36 complete.\n",
      "Starting round 37/40\n",
      "Round 37 complete.\n",
      "Starting round 38/40\n",
      "Round 38 complete.\n",
      "Starting round 39/40\n",
      "Round 39 complete.\n",
      "Starting round 40/40\n"
     ]
    },
    {
     "name": "stderr",
     "output_type": "stream",
     "text": [
      "WARNING:absl:You are saving your model as an HDF5 file via `model.save()` or `keras.saving.save_model(model)`. This file format is considered legacy. We recommend using instead the native Keras format, e.g. `model.save('my_model.keras')` or `keras.saving.save_model(model, 'my_model.keras')`. \n"
     ]
    },
    {
     "name": "stdout",
     "output_type": "stream",
     "text": [
      "Round 40 complete.\n",
      "Federated learning complete and connections closed.\n"
     ]
    }
   ],
   "source": [
    "model = build_model()\n",
    "\n",
    "\n",
    "num_rounds = 40\n",
    "for round_num in range(num_rounds):\n",
    "    print(f\"Starting round {round_num + 1}/{num_rounds}\")\n",
    "    \n",
    "    client_weights = []\n",
    "    \n",
    "\n",
    "    for i in range(3):\n",
    "        data = pickle.dumps(global_weights)\n",
    "   \n",
    "        shared_key = server_private_key.exchange(ec.ECDH(), client_public_keys[i])\n",
    "        derived_key = HKDF(algorithm=hashes.SHA256(), length=32, salt=None, info=b'handshake data').derive(shared_key)\n",
    "        aesgcm = AESGCM(derived_key)\n",
    "        nonce = b'\\x00' * 12  \n",
    "        encrypted_data = aesgcm.encrypt(nonce, data, None)\n",
    "        client_connections[i].send(encrypted_data)\n",
    "    \n",
    "\n",
    "    for i in range(3):\n",
    "        encrypted_data = client_connections[i].recv(4096)\n",
    "        shared_key = server_private_key.exchange(ec.ECDH(), client_public_keys[i])\n",
    "        derived_key = HKDF(algorithm=hashes.SHA256(), length=32, salt=None, info=b'handshake data').derive(shared_key)\n",
    "        aesgcm = AESGCM(derived_key)\n",
    "        data = aesgcm.decrypt(nonce, encrypted_data, None)\n",
    "        local_weights = pickle.loads(data)\n",
    "        client_weights.append(local_weights)\n",
    "    \n",
    "\n",
    "    new_weights = []\n",
    "    for weights_list in zip(*client_weights):\n",
    "        new_weights.append(np.mean(weights_list, axis=0))\n",
    "    \n",
    "    global_weights = new_weights\n",
    "    model.set_weights(global_weights)\n",
    "    \n",
    "    print(f\"Round {round_num + 1} complete.\")\n",
    "\n",
    "\n",
    "model.save('federated_model.h5')\n",
    "\n",
    "\n",
    "for conn in client_connections:\n",
    "    conn.close()\n",
    "\n",
    "print(\"Federated learning complete and connections closed.\")\n"
   ]
  },
  {
   "cell_type": "code",
   "execution_count": null,
   "id": "04d20894-dec7-4dff-8727-def4a2cc22cf",
   "metadata": {},
   "outputs": [],
   "source": []
  }
 ],
 "metadata": {
  "kernelspec": {
   "display_name": "Python 3 (ipykernel)",
   "language": "python",
   "name": "python3"
  },
  "language_info": {
   "codemirror_mode": {
    "name": "ipython",
    "version": 3
   },
   "file_extension": ".py",
   "mimetype": "text/x-python",
   "name": "python",
   "nbconvert_exporter": "python",
   "pygments_lexer": "ipython3",
   "version": "3.12.5"
  }
 },
 "nbformat": 4,
 "nbformat_minor": 5
}
